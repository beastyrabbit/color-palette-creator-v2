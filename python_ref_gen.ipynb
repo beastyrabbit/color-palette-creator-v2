{
 "cells": [
  {
   "cell_type": "code",
   "execution_count": 10,
   "metadata": {},
   "outputs": [],
   "source": [
    "import numpy as np\n",
    "from PIL import Image, ImageDraw\n",
    "from random import randint\n",
    "from colorsys import hsv_to_rgb\n",
    "from tkinter import Tk, filedialog\n",
    "from PIL import Image, ImageDraw, ImageFont\n",
    "import numpy as np\n",
    "from colorsys import hsv_to_rgb\n"
   ]
  },
  {
   "cell_type": "code",
   "execution_count": 11,
   "metadata": {},
   "outputs": [],
   "source": [
    "def invert_hex_color(hex_color):\n",
    "    \"\"\"Inverts a hex color to its opposite color.\"\"\"\n",
    "    hex_color = hex_color.lstrip('#')\n",
    "    r, g, b = int(hex_color[0:2], 16), int(hex_color[2:4], 16), int(hex_color[4:6], 16)\n",
    "    inverted_rgb = (255 - r, 255 - g, 255 - b)\n",
    "    return f'#{inverted_rgb[0]:02X}{inverted_rgb[1]:02X}{inverted_rgb[2]:02X}'"
   ]
  },
  {
   "cell_type": "code",
   "execution_count": 12,
   "metadata": {},
   "outputs": [],
   "source": [
    "def create_unique_hue_gradient(height, width):\n",
    "    \"\"\"\n",
    "    Generates a unique grid of hex color codes by varying hue, with optional saturation and brightness adjustments.\n",
    "    - height: Number of rows (up to 30)\n",
    "    - width: Number of columns (up to 30)\n",
    "    \"\"\"\n",
    "    colors = np.empty((height, width), dtype=object)\n",
    "    total_cells = height * width\n",
    "\n",
    "    # Start with full saturation and brightness for strong colors\n",
    "    saturation = 1.0\n",
    "    brightness = 1.0\n",
    "\n",
    "    # Calculate hue step based on total cells to evenly distribute colors\n",
    "    hue_step = round(1.0 / total_cells, 4)  # Normalized to 1 for hue in HSV space  \n",
    "\n",
    "    for i in range(height):\n",
    "        for j in range(width):\n",
    "            # Calculate the hue for this cell\n",
    "            hue = (i * width + j) * hue_step  # Linearly increase hue for each cell\n",
    "\n",
    "            # Convert HSV to RGB\n",
    "            r, g, b = hsv_to_rgb(hue, saturation, brightness)\n",
    "            hex_color = f'#{int(r * 255):02X}{int(g * 255):02X}{int(b * 255):02X}'\n",
    "            if hex_color == '#99FF00':\n",
    "                hex_color = '#99FF10'\n",
    "            colors[i, j] = hex_color\n",
    "\n",
    "    return colors"
   ]
  },
  {
   "cell_type": "code",
   "execution_count": 13,
   "metadata": {},
   "outputs": [],
   "source": [
    "from PIL import Image, ImageDraw, ImageFont\n",
    "\n",
    "def draw_hex_grid(colors, height, width, cell_size=20, font_size=8,print_text=False):\n",
    "    \"\"\"\n",
    "    Draws an image with a hex color in each cell and inverted text color.\n",
    "    - colors: 2D array of hex color codes for each cell\n",
    "    - cell_size: Size of each grid cell (width and height)\n",
    "    - font_size: Size of hex text in each cell\n",
    "    \"\"\"\n",
    "    img_size = (width * cell_size, height * cell_size)\n",
    "    img = Image.new(\"RGB\", img_size, \"white\")\n",
    "    draw = ImageDraw.Draw(img)\n",
    "\n",
    "    try:\n",
    "        font = ImageFont.truetype(\"arial.ttf\", font_size)\n",
    "    except IOError:\n",
    "        font = ImageFont.load_default()\n",
    "\n",
    "    for i in range(height):\n",
    "        for j in range(width):\n",
    "            color = colors[i, j]\n",
    "            rect_x0, rect_y0 = j * cell_size, i * cell_size\n",
    "            rect_x1, rect_y1 = rect_x0 + cell_size, rect_y0 + cell_size\n",
    "\n",
    "            # Draw color square\n",
    "            draw.rectangle([rect_x0, rect_y0, rect_x1, rect_y1], fill=color)\n",
    "\n",
    "            # Calculate inverted text color\n",
    "            inverted_color = invert_hex_color(color)\n",
    "            if print_text:\n",
    "                # Draw hex color text at bottom of cell with inverted color\n",
    "                text_position = (rect_x0 + 2, rect_y0 + cell_size - font_size - 2)\n",
    "                draw.text(text_position, color, fill=inverted_color, font=font)\n",
    "\n",
    "    return img\n"
   ]
  },
  {
   "cell_type": "code",
   "execution_count": 14,
   "metadata": {},
   "outputs": [],
   "source": [
    "def generate_hex_pixel_image(hight=100,width=100, print_text=False):\n",
    "    \"\"\"\n",
    "    Combines grid creation and drawing to produce final image.\n",
    "    - size: Grid size (size x size)\n",
    "    - pattern_type: Pattern type for color grid\n",
    "    \"\"\"\n",
    "    colors = create_unique_hue_gradient(hight, width)\n",
    "    img = draw_hex_grid(colors,hight, width, cell_size=50, font_size=10, print_text=print_text)\n",
    "    return img\n"
   ]
  },
  {
   "cell_type": "code",
   "execution_count": 15,
   "metadata": {},
   "outputs": [],
   "source": [
    "def save_image_with_dialog(image):\n",
    "    \"\"\"Opens a file dialog to save the image.\"\"\"\n",
    "    # Initialize Tkinter and hide the root window\n",
    "    root = Tk()\n",
    "    root.withdraw()\n",
    "    root.attributes(\"-topmost\", True)  # Bring the dialog to the front\n",
    "\n",
    "    # Open the save file dialog\n",
    "    file_path = filedialog.asksaveasfilename(\n",
    "        defaultextension=\".png\",\n",
    "        filetypes=[(\"PNG files\", \"*.png\"), (\"All files\", \"*.*\")],\n",
    "        title=\"Save Image As\"\n",
    "    )\n",
    "\n",
    "    # Save the image if a path is selected\n",
    "    if file_path:\n",
    "        image.save(file_path)\n",
    "        print(f\"Image saved to {file_path}\")\n",
    "    else:\n",
    "        print(\"Save cancelled.\")"
   ]
  },
  {
   "cell_type": "code",
   "execution_count": 16,
   "metadata": {},
   "outputs": [],
   "source": [
    "\n",
    "# Example usage: generate and save the image\n",
    "patterned_img = generate_hex_pixel_image(hight=10,width=3, print_text=True)\n",
    "patterned_img.show()\n",
    "#save_image_with_dialog(patterned_img)\n",
    "\n"
   ]
  },
  {
   "cell_type": "code",
   "execution_count": 17,
   "metadata": {},
   "outputs": [
    {
     "name": "stdout",
     "output_type": "stream",
     "text": [
      "Image saved to C:/Users/tobia/Downloads/test/RefImage_broken.png\n"
     ]
    }
   ],
   "source": [
    "patterned_img = generate_hex_pixel_image(hight=10,width=3, print_text=False)\n",
    "save_image_with_dialog(patterned_img)"
   ]
  }
 ],
 "metadata": {
  "kernelspec": {
   "display_name": "Python 3",
   "language": "python",
   "name": "python3"
  },
  "language_info": {
   "codemirror_mode": {
    "name": "ipython",
    "version": 3
   },
   "file_extension": ".py",
   "mimetype": "text/x-python",
   "name": "python",
   "nbconvert_exporter": "python",
   "pygments_lexer": "ipython3",
   "version": "3.12.7"
  }
 },
 "nbformat": 4,
 "nbformat_minor": 2
}
